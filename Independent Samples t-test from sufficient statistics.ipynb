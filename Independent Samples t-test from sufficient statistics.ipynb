{
 "cells": [
  {
   "cell_type": "markdown",
   "metadata": {},
   "source": [
    "This is a quick and brisk calculation of a T value for an independent samples t-test comparing the means of performance between a random and a RMHC agent. This notebook is a supplement to the ANOVA notebook, and I recommend reading that if you wish to understand what I am doing here. "
   ]
  },
  {
   "cell_type": "code",
   "execution_count": 1,
   "metadata": {},
   "outputs": [],
   "source": [
    "import numpy as np\n",
    "import math, csv\n",
    "import pandas as pd \n",
    "from scipy import stats"
   ]
  },
  {
   "cell_type": "markdown",
   "metadata": {},
   "source": [
    "Note here the derivation for the degrees of freedom from N. As only one DF is necessary here, there shouldn't be any confusion."
   ]
  },
  {
   "cell_type": "code",
   "execution_count": 2,
   "metadata": {},
   "outputs": [
    {
     "name": "stdout",
     "output_type": "stream",
     "text": [
      "DF = 118\n"
     ]
    }
   ],
   "source": [
    "mean_table = [-23.42, 99.5]\n",
    "stdev_table = [25.62, 70.82]\n",
    "n = 60\n",
    "DF = n*len(mean_table) - len(mean_table)\n",
    "print('DF = '+str(DF))"
   ]
  },
  {
   "cell_type": "code",
   "execution_count": 3,
   "metadata": {},
   "outputs": [],
   "source": [
    "mean_sub = mean_table[0] - mean_table[1]"
   ]
  },
  {
   "cell_type": "code",
   "execution_count": 4,
   "metadata": {},
   "outputs": [
    {
     "name": "stdout",
     "output_type": "stream",
     "text": [
      "10.93974\n",
      "83.59120666666665\n",
      "94.53094666666665\n",
      "9.72270264209837\n"
     ]
    }
   ],
   "source": [
    "var_div_ss1 = stdev_table[0]**2 / n\n",
    "var_div_ss2 = stdev_table[1]**2 / n\n",
    "var_div_sum = var_div_ss1 + var_div_ss2\n",
    "sqrted = np.sqrt(var_div_sum)\n",
    "\n",
    "print(var_div_ss1)\n",
    "print(var_div_ss2)\n",
    "print(var_div_sum)\n",
    "print(sqrted)"
   ]
  },
  {
   "cell_type": "code",
   "execution_count": 5,
   "metadata": {
    "scrolled": true
   },
   "outputs": [
    {
     "name": "stdout",
     "output_type": "stream",
     "text": [
      "-12.642575271999801\n"
     ]
    }
   ],
   "source": [
    "t = mean_sub / sqrted\n",
    "print(t)"
   ]
  },
  {
   "cell_type": "markdown",
   "metadata": {},
   "source": [
    "Note: Before we calculate p, we notice that our t value is negative. For a two tailed hypothesis like ours, it seldom matters. But it is necessary to use the absolute value in scipy.stats when checking against the t test table. "
   ]
  },
  {
   "cell_type": "code",
   "execution_count": 6,
   "metadata": {},
   "outputs": [
    {
     "name": "stdout",
     "output_type": "stream",
     "text": [
      "5.484143971013128e-24\n"
     ]
    }
   ],
   "source": [
    "p = stats.t.sf(np.abs(t), DF)\n",
    "print(p)"
   ]
  },
  {
   "cell_type": "markdown",
   "metadata": {},
   "source": [
    "Which seems significant. Of course, all interpretation and exploration is no longer accessible... "
   ]
  }
 ],
 "metadata": {
  "kernelspec": {
   "display_name": "Python 3",
   "language": "python",
   "name": "python3"
  },
  "language_info": {
   "codemirror_mode": {
    "name": "ipython",
    "version": 3
   },
   "file_extension": ".py",
   "mimetype": "text/x-python",
   "name": "python",
   "nbconvert_exporter": "python",
   "pygments_lexer": "ipython3",
   "version": "3.6.5"
  }
 },
 "nbformat": 4,
 "nbformat_minor": 2
}
